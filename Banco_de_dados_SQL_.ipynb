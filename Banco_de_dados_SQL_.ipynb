{
  "nbformat": 4,
  "nbformat_minor": 0,
  "metadata": {
    "colab": {
      "provenance": [],
      "authorship_tag": "ABX9TyOgRuSS/UH+GRbMpSGyfSBB",
      "include_colab_link": true
    },
    "kernelspec": {
      "name": "python3",
      "display_name": "Python 3"
    },
    "language_info": {
      "name": "python"
    }
  },
  "cells": [
    {
      "cell_type": "markdown",
      "metadata": {
        "id": "view-in-github",
        "colab_type": "text"
      },
      "source": [
        "<a href=\"https://colab.research.google.com/github/Samgomes2510/Banco_de_dados_SQL/blob/main/Banco_de_dados_SQL_.ipynb\" target=\"_parent\"><img src=\"https://colab.research.google.com/assets/colab-badge.svg\" alt=\"Open In Colab\"/></a>"
      ]
    },
    {
      "cell_type": "markdown",
      "source": [
        "# **MÓDULO 24 - Bancos de Dados + SQL**\n"
      ],
      "metadata": {
        "id": "gggXjlfwJEs6"
      }
    },
    {
      "cell_type": "markdown",
      "source": [
        "Para nossa atividade inicial de SQL trabalharemos com uma base de vendas.\n",
        "Abaixo temos o ambiente de preparo para trabalharmos com o SQL lite.\n"
      ],
      "metadata": {
        "id": "Wue16gwPJJMS"
      }
    },
    {
      "cell_type": "code",
      "execution_count": null,
      "metadata": {
        "id": "E-4SY82J4CUZ"
      },
      "outputs": [],
      "source": [
        "import sqlite3 #Importando a biblioteca necessária\n",
        "import pandas as pd\n"
      ]
    },
    {
      "cell_type": "code",
      "source": [
        "df_vendas = pd.read_csv(\"TB_VENDAS_TAREFA.csv\", delimiter=';')\n",
        "\n"
      ],
      "metadata": {
        "id": "Nv09VojwJQaJ"
      },
      "execution_count": null,
      "outputs": []
    },
    {
      "cell_type": "code",
      "source": [
        "# Criar uma conexão com um banco de dados SQLite em memória\n",
        "conn = sqlite3.connect(':memory:')\n",
        "# Carregar o DataFrame no banco de dados SQLite\n",
        "df_vendas.to_sql('tb_vendas', conn, index=False, if_exists='replace')\n"
      ],
      "metadata": {
        "colab": {
          "base_uri": "https://localhost:8080/"
        },
        "id": "5tIruwaYJV3t",
        "outputId": "1a5b40c8-600d-415d-b744-05c2dc68be47"
      },
      "execution_count": null,
      "outputs": [
        {
          "output_type": "execute_result",
          "data": {
            "text/plain": [
              "24"
            ]
          },
          "metadata": {},
          "execution_count": 3
        }
      ]
    },
    {
      "cell_type": "code",
      "source": [
        "# Função paara executar consultas SQL e retornar o resultado como um DataFrame\n",
        "def run_query(query):\n",
        "    return pd.read_sql_query(query, conn)\n"
      ],
      "metadata": {
        "id": "JAzfKUfXJvMt"
      },
      "execution_count": null,
      "outputs": []
    },
    {
      "cell_type": "markdown",
      "source": [
        "# 1) Faça uma consulta que retorne todos os dados da nossa tabela de vendas, com todas linhas e todas colunas.\n"
      ],
      "metadata": {
        "id": "vb3tiByrKmxC"
      }
    },
    {
      "cell_type": "code",
      "source": [
        "query = \"SELECT * FROM tb_vendas\"\n",
        "result_df = run_query(query)\n",
        "#Exibir os resultados\n",
        "print(result_df)"
      ],
      "metadata": {
        "colab": {
          "base_uri": "https://localhost:8080/"
        },
        "id": "noRCOwDkJ8wa",
        "outputId": "d8034711-a1b3-4550-88ce-e43ac7a2c45e"
      },
      "execution_count": null,
      "outputs": [
        {
          "output_type": "stream",
          "name": "stdout",
          "text": [
            "    ID_COMPRA  ID_CLIENTE   PRODUTO VALOR_UNID  UNIDADES\n",
            "0        1247        9081  CAMISETA       34,5         2\n",
            "1        1248        9081     CALCA       89,9         1\n",
            "2        1250        9560  CAMISETA       34,5         1\n",
            "3        1249        9630   BERMUDA       79,5         2\n",
            "4        1251        9425  CAMISETA       34,5         3\n",
            "5        1252        9425   VESTIDO        102         1\n",
            "6        1253        9481     CALCA       89,9         2\n",
            "7        1254        9785      MEIA       25,9         1\n",
            "8        1255        9786     CALCA       89,9         2\n",
            "9        1256        9787   VESTIDO        102         1\n",
            "10       1257        9788     CALCA       89,9         2\n",
            "11       1258        9789  CAMISETA       34,5         3\n",
            "12       1259        9790  CAMISETA       34,5         1\n",
            "13       1260        9791   BERMUDA       79,5         2\n",
            "14       1261        9792  CAMISETA       34,5         2\n",
            "15       1262        9793     CALCA       89,9         2\n",
            "16       1263        9794     CALCA       89,9         1\n",
            "17       1264        9795   BERMUDA       79,5         2\n",
            "18       1265        9796  CAMISETA       34,5         4\n",
            "19       1266        9797  CAMISETA       34,5         1\n",
            "20       1267        9798   VESTIDO        102         2\n",
            "21       1268        9799      MEIA       25,9         3\n",
            "22       1269        9800  CAMISETA       34,5         2\n",
            "23       1270        9801     CALCA       89,9         1\n"
          ]
        }
      ]
    },
    {
      "cell_type": "markdown",
      "source": [
        "# 2) Faça uma consulta que retorne apenas 10 linhas da coluna produto.\n"
      ],
      "metadata": {
        "id": "YXDsW9vJKo6h"
      }
    },
    {
      "cell_type": "code",
      "source": [
        "query = \"SELECT PRODUTO FROM tb_vendas limit 10\"\n",
        "result_df = run_query(query)\n",
        "print(result_df)"
      ],
      "metadata": {
        "colab": {
          "base_uri": "https://localhost:8080/"
        },
        "id": "Ve7VLCrqKsbT",
        "outputId": "19aa3e2f-1104-41d5-af77-be77fc07a8b6"
      },
      "execution_count": null,
      "outputs": [
        {
          "output_type": "stream",
          "name": "stdout",
          "text": [
            "    PRODUTO\n",
            "0  CAMISETA\n",
            "1     CALCA\n",
            "2  CAMISETA\n",
            "3   BERMUDA\n",
            "4  CAMISETA\n",
            "5   VESTIDO\n",
            "6     CALCA\n",
            "7      MEIA\n",
            "8     CALCA\n",
            "9   VESTIDO\n"
          ]
        }
      ]
    },
    {
      "cell_type": "markdown",
      "source": [
        "# 3) Faça uma consulta que retorne a média do valor por unidade e também das unidades vendidas. Não se esqueça de renomear o nome das colunas ao cria-las.\n",
        "\n"
      ],
      "metadata": {
        "id": "xAc6OjXdLKRG"
      }
    },
    {
      "cell_type": "code",
      "source": [
        "query = \"SELECT AVG(VALOR_UNID) AS TICKET_MEDIO, AVG(UNIDADES) AS MEDIA_UNIDADE FROM tb_vendas\"\n",
        "result_df = run_query(query)\n",
        "print(result_df)"
      ],
      "metadata": {
        "colab": {
          "base_uri": "https://localhost:8080/"
        },
        "id": "WuBZYfCfLMz1",
        "outputId": "e63f70b2-113d-4d6e-ba54-f80823738aeb"
      },
      "execution_count": null,
      "outputs": [
        {
          "output_type": "stream",
          "name": "stdout",
          "text": [
            "   TICKET_MEDIO  MEDIA_UNIDADE\n",
            "0     63.416667       1.833333\n"
          ]
        }
      ]
    },
    {
      "cell_type": "markdown",
      "source": [
        "# 4) Note que na nossa tabela não temos o total de valor gasto por compra, temos o valor do produto e a quantidade vendida, para termos o valor total precisamos multiplicar essas duas colunas e para multiplicar colunas usamos o *.\n",
        "# Faça uma consulta que retorne a coluna ID_COMPRA, ID_CLIENTE e o valor total gasto.\n"
      ],
      "metadata": {
        "id": "HHRBXvTuMVdY"
      }
    },
    {
      "cell_type": "code",
      "source": [
        "query = \"SELECT ID_COMPRA, ID_CLIENTE, VALOR_UNID * UNIDADES AS VALOR_TOTAL FROM tb_vendas\"\n",
        "result_df = run_query(query)\n",
        "print(result_df)"
      ],
      "metadata": {
        "colab": {
          "base_uri": "https://localhost:8080/"
        },
        "id": "l8wzf-tXMXw7",
        "outputId": "ce6cfcfc-61b8-4c61-abbe-71fdabbbc2de"
      },
      "execution_count": null,
      "outputs": [
        {
          "output_type": "stream",
          "name": "stdout",
          "text": [
            "    ID_COMPRA  ID_CLIENTE  VALOR_TOTAL\n",
            "0        1247        9081           68\n",
            "1        1248        9081           89\n",
            "2        1250        9560           34\n",
            "3        1249        9630          158\n",
            "4        1251        9425          102\n",
            "5        1252        9425          102\n",
            "6        1253        9481          178\n",
            "7        1254        9785           25\n",
            "8        1255        9786          178\n",
            "9        1256        9787          102\n",
            "10       1257        9788          178\n",
            "11       1258        9789          102\n",
            "12       1259        9790           34\n",
            "13       1260        9791          158\n",
            "14       1261        9792           68\n",
            "15       1262        9793          178\n",
            "16       1263        9794           89\n",
            "17       1264        9795          158\n",
            "18       1265        9796          136\n",
            "19       1266        9797           34\n",
            "20       1267        9798          204\n",
            "21       1268        9799           75\n",
            "22       1269        9800           68\n",
            "23       1270        9801           89\n"
          ]
        }
      ]
    },
    {
      "cell_type": "markdown",
      "source": [
        "# 5) [DESAFIO] Faça uma consulta que traz a média do valor total gasto que foi calculado no exercício anterior. Note que não queremos a média por pedido e sim a média total, apenas essa informação deve vir na consulta.\n"
      ],
      "metadata": {
        "id": "BCHtLG9xNSsp"
      }
    },
    {
      "cell_type": "code",
      "source": [
        "query = \"SELECT AVG(VALOR_UNID * UNIDADES) AS MEDIA_VALOR_TOTAL FROM tb_vendas\"\n",
        "result_df = run_query(query)\n",
        "# Exibir o resultado\n",
        "print(result_df)"
      ],
      "metadata": {
        "colab": {
          "base_uri": "https://localhost:8080/"
        },
        "id": "5HTX_cbUNRzL",
        "outputId": "1bf41948-a4ee-40a8-dce4-e3edcf5f238d"
      },
      "execution_count": null,
      "outputs": [
        {
          "output_type": "stream",
          "name": "stdout",
          "text": [
            "   MEDIA_VALOR_TOTAL\n",
            "0            108.625\n"
          ]
        }
      ]
    },
    {
      "cell_type": "markdown",
      "source": [
        "# 6) Diferencie com suas palavras, considerando o repertório que tem criado da área de dados, a utilizadade do SQL e do Python para ciência de dados.\n",
        "Minimo 2 linhas.\n"
      ],
      "metadata": {
        "id": "bgv6sqVTQS8w"
      }
    },
    {
      "cell_type": "markdown",
      "source": [
        "O SQL é essencial para extrair, filtrar e organizar dados diretamente de bancos de dados, sendo muito útil nas etapas iniciais da análise. Já o Python é mais versátil, permitindo tratamento avançado de dados, visualizações, modelagem estatística e aplicação de machine learning, sendo fundamental em todas as etapas da ciência de dados."
      ],
      "metadata": {
        "id": "viCkKYkfQZfF"
      }
    },
    {
      "cell_type": "markdown",
      "source": [
        "#7) Diferencie com suas palavras banco de dados relacionais de não relacionais.\n",
        "Minimo 3 linhas."
      ],
      "metadata": {
        "id": "a5AZfaSFQwV5"
      }
    },
    {
      "cell_type": "markdown",
      "source": [
        "Bancos de dados relacionais organizam os dados em tabelas com linhas e colunas, usando chaves primárias e estrangeiras para manter relações entre os dados. São ideais para estruturas bem definidas e dados que exigem integridade e consistência, como sistemas financeiros ou administrativos. Já os bancos de dados não relacionais (NoSQL) são mais flexíveis, armazenando dados em documentos, grafos, colunas ou pares chave-valor, sendo recomendados para grandes volumes de dados não estruturados, como em redes sociais ou aplicações em tempo real."
      ],
      "metadata": {
        "id": "uz3rLoLfQx1h"
      }
    },
    {
      "cell_type": "markdown",
      "source": [
        "#8) Queremos saber da sua opinião, acredita que o SQL pode ser mais prático que o Python para consultas rápidas? Justifique.\n",
        "Muitas vezes durante a carreia você terá que escolher qual linguagem utilizar para cada momento afim de entregar o que é solicitado o mais rápido e com qualidade possível, exercite sua argumentação = )\n"
      ],
      "metadata": {
        "id": "SbDx0--DQ8Ac"
      }
    },
    {
      "cell_type": "markdown",
      "source": [
        "Sim, acredito que o SQL pode ser mais prático que o Python para consultas rápidas, principalmente quando estamos lidando diretamente com bancos de dados relacionais. O SQL foi especificamente criado para consultar, filtrar, agrupar e ordenar dados, então tarefas como extrair uma média, somar valores ou filtrar registros são feitas de forma direta e eficiente com apenas algumas linhas. Já o Python, apesar de ser mais poderoso para análises complexas e automações, exige mais configuração (como importar bibliotecas, conectar ao banco e tratar os dados), o que pode ser mais demorado para tarefas simples. Por isso, em situações onde a velocidade e simplicidade são prioridade, o SQL costuma ser a melhor escolha."
      ],
      "metadata": {
        "id": "ETstI4SoQ94U"
      }
    }
  ]
}